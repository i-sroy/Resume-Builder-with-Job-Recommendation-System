{
  "cells": [
    {
      "cell_type": "code",
      "execution_count": 1,
      "metadata": {
        "id": "lY9S0byiamT4"
      },
      "outputs": [],
      "source": [
        "import pandas as pd\n",
        "import numpy as np\n",
        "import pickle\n",
        "import matplotlib.pyplot as plt"
      ]
    },
    {
      "cell_type": "code",
      "execution_count": 2,
      "metadata": {
        "id": "gnUlqaDwamT7"
      },
      "outputs": [],
      "source": [
        "df=pd.read_csv('jobs.csv')"
      ]
    },
    {
      "cell_type": "code",
      "execution_count": 3,
      "metadata": {
        "collapsed": true,
        "id": "xMASoBlIamT7"
      },
      "outputs": [
        {
          "name": "stdout",
          "output_type": "stream",
          "text": [
            "                            _id experience  \\\n",
            "0      62ee2d1d4dcd52f533910d18    2-7 Yrs   \n",
            "1      62ee2d1d4dcd52f533910d19    2-7 Yrs   \n",
            "2      62ee2d1d4dcd52f533910d1a   7-12 Yrs   \n",
            "3      62ee2d1d4dcd52f533910d1b    2-7 Yrs   \n",
            "4      62ee2d1d4dcd52f533910d1c    2-6 Yrs   \n",
            "...                         ...        ...   \n",
            "52823  62ee53874dcd52f53391dcbb    3-6 Yrs   \n",
            "52824  62ee53874dcd52f53391dcbc   6-11 Yrs   \n",
            "52825  62ee53874dcd52f53391dcbd    5-8 Yrs   \n",
            "52826  62ee53874dcd52f53391dcbe   6-11 Yrs   \n",
            "52827  62ee53874dcd52f53391dcbf    4-7 Yrs   \n",
            "\n",
            "                                                location  \\\n",
            "0                                                Chennai   \n",
            "1                                                 Mumbai   \n",
            "2                            Chennai,Bangalore/Bengaluru   \n",
            "3      Noida,Pune,Chennai,Bangalore/Bengaluru,Delhi /...   \n",
            "4             Hyderabad/Secunderabad,Bangalore/Bengaluru   \n",
            "...                                                  ...   \n",
            "52823                 Pune,Ahmedabad,Bangalore/Bengaluru   \n",
            "52824                             Hyderabad/Secunderabad   \n",
            "52825                 Pune,Ahmedabad,Bangalore/Bengaluru   \n",
            "52826                                            Chennai   \n",
            "52827                                Bangalore/Bengaluru   \n",
            "\n",
            "                          salary           search_type  \\\n",
            "0                  Not disclosed  Technical Consultant   \n",
            "1                  Not disclosed  Technical Consultant   \n",
            "2      11,00,000 - 21,00,000 PA.  Technical Consultant   \n",
            "3      10,00,000 - 20,00,000 PA.  Technical Consultant   \n",
            "4        4,00,000 - 9,00,000 PA.  Technical Consultant   \n",
            "...                          ...                   ...   \n",
            "52823              Not disclosed          Selenium API   \n",
            "52824              Not disclosed          Selenium API   \n",
            "52825              Not disclosed          Selenium API   \n",
            "52826              Not disclosed          Selenium API   \n",
            "52827              Not disclosed          Selenium API   \n",
            "\n",
            "                                                  skills  \\\n",
            "0      Microsoft Dynamics 365 F&O,Microsoft Dynamics ...   \n",
            "1      OAF,Oracle Apps Technical,EBS,Oracle Applicati...   \n",
            "2      oracle fusion,oracle cloud,IT Skills,Cloud,Ora...   \n",
            "3      ODI,BIP,OIC,OTBI,Dell Boomi,IT Skills,Cloud,Or...   \n",
            "4      Oracle Apps Technical,IT Skills,Cloud,Oracle,J...   \n",
            "...                                                  ...   \n",
            "52823  Agile,debugging,Selenium,verbal communication,...   \n",
            "52824  Rest Assured,automation testing,API Testing,IT...   \n",
            "52825  TDD,Java,Jenkins,analytical,Agile,written,verb...   \n",
            "52826  oral communication,VSTS,Automation Framework,S...   \n",
            "52827  SoapUI,API Testing,Selenium,ReadyAPI,Bash,PyTe...   \n",
            "\n",
            "                                                   title  \\\n",
            "0                  Dynamics 365 F&O Technical Consultant   \n",
            "1        Oracle Application Technical Consultant ( OAF )   \n",
            "2      Oracle Cloud/Fusion Technical Consultant :: Ch...   \n",
            "3                   Oracle Cloud Technical Consultant \\n   \n",
            "4                Oracle Application Technical Consultant   \n",
            "...                                                  ...   \n",
            "52823               Software Engineer, QA (Selenium/API)   \n",
            "52824  Hiring For Automation Testing with Selenium, A...   \n",
            "52825        Senior Software Engineer, QA (Selenium/API)   \n",
            "52826                 Selenium - Java, API Test Engineer   \n",
            "52827   Automation Test Engineer - Selenium/ API Testing   \n",
            "\n",
            "                                                     url  \n",
            "0      https://www.naukri.com/job-listings-dynamics-3...  \n",
            "1      https://www.naukri.com/job-listings-oracle-app...  \n",
            "2      https://www.naukri.com/job-listings-oracle-clo...  \n",
            "3      https://www.naukri.com/job-listings-oracle-clo...  \n",
            "4      https://www.naukri.com/job-listings-oracle-app...  \n",
            "...                                                  ...  \n",
            "52823  https://www.naukri.com/job-listings-software-e...  \n",
            "52824  https://www.naukri.com/job-listings-hiring-for...  \n",
            "52825  https://www.naukri.com/job-listings-senior-sof...  \n",
            "52826  https://www.naukri.com/job-listings-selenium-j...  \n",
            "52827  https://www.naukri.com/job-listings-automation...  \n",
            "\n",
            "[52828 rows x 8 columns]\n"
          ]
        }
      ],
      "source": [
        "print(df)"
      ]
    },
    {
      "cell_type": "code",
      "execution_count": 4,
      "metadata": {
        "id": "apzQeMwSamT8"
      },
      "outputs": [
        {
          "data": {
            "text/plain": [
              "Index(['_id', 'experience', 'location', 'salary', 'search_type', 'skills',\n",
              "       'title', 'url'],\n",
              "      dtype='object')"
            ]
          },
          "execution_count": 4,
          "metadata": {},
          "output_type": "execute_result"
        }
      ],
      "source": [
        "df.columns"
      ]
    },
    {
      "cell_type": "code",
      "execution_count": 5,
      "metadata": {},
      "outputs": [
        {
          "name": "stdout",
          "output_type": "stream",
          "text": [
            "                            _id experience  \\\n",
            "0      62ee2d1d4dcd52f533910d18    2-7 Yrs   \n",
            "1      62ee2d1d4dcd52f533910d19    2-7 Yrs   \n",
            "2      62ee2d1d4dcd52f533910d1a   7-12 Yrs   \n",
            "3      62ee2d1d4dcd52f533910d1b    2-7 Yrs   \n",
            "4      62ee2d1d4dcd52f533910d1c    2-6 Yrs   \n",
            "...                         ...        ...   \n",
            "52823  62ee53874dcd52f53391dcbb    3-6 Yrs   \n",
            "52824  62ee53874dcd52f53391dcbc   6-11 Yrs   \n",
            "52825  62ee53874dcd52f53391dcbd    5-8 Yrs   \n",
            "52826  62ee53874dcd52f53391dcbe   6-11 Yrs   \n",
            "52827  62ee53874dcd52f53391dcbf    4-7 Yrs   \n",
            "\n",
            "                                                location  \\\n",
            "0                                                Chennai   \n",
            "1                                                 Mumbai   \n",
            "2                            Chennai,Bangalore/Bengaluru   \n",
            "3      Noida,Pune,Chennai,Bangalore/Bengaluru,Delhi /...   \n",
            "4             Hyderabad/Secunderabad,Bangalore/Bengaluru   \n",
            "...                                                  ...   \n",
            "52823                 Pune,Ahmedabad,Bangalore/Bengaluru   \n",
            "52824                             Hyderabad/Secunderabad   \n",
            "52825                 Pune,Ahmedabad,Bangalore/Bengaluru   \n",
            "52826                                            Chennai   \n",
            "52827                                Bangalore/Bengaluru   \n",
            "\n",
            "                          salary           search_type  \\\n",
            "0                  Not disclosed  Technical Consultant   \n",
            "1                  Not disclosed  Technical Consultant   \n",
            "2      11,00,000 - 21,00,000 PA.  Technical Consultant   \n",
            "3      10,00,000 - 20,00,000 PA.  Technical Consultant   \n",
            "4        4,00,000 - 9,00,000 PA.  Technical Consultant   \n",
            "...                          ...                   ...   \n",
            "52823              Not disclosed          Selenium API   \n",
            "52824              Not disclosed          Selenium API   \n",
            "52825              Not disclosed          Selenium API   \n",
            "52826              Not disclosed          Selenium API   \n",
            "52827              Not disclosed          Selenium API   \n",
            "\n",
            "                                                  skills  \\\n",
            "0      Microsoft Dynamics 365 F&O,Microsoft Dynamics ...   \n",
            "1      OAF,Oracle Apps Technical,EBS,Oracle Applicati...   \n",
            "2      oracle fusion,oracle cloud,IT Skills,Cloud,Ora...   \n",
            "3      ODI,BIP,OIC,OTBI,Dell Boomi,IT Skills,Cloud,Or...   \n",
            "4      Oracle Apps Technical,IT Skills,Cloud,Oracle,J...   \n",
            "...                                                  ...   \n",
            "52823  Agile,debugging,Selenium,verbal communication,...   \n",
            "52824  Rest Assured,automation testing,API Testing,IT...   \n",
            "52825  TDD,Java,Jenkins,analytical,Agile,written,verb...   \n",
            "52826  oral communication,VSTS,Automation Framework,S...   \n",
            "52827  SoapUI,API Testing,Selenium,ReadyAPI,Bash,PyTe...   \n",
            "\n",
            "                                                   title  \\\n",
            "0                  Dynamics 365 F&O Technical Consultant   \n",
            "1        Oracle Application Technical Consultant ( OAF )   \n",
            "2      Oracle Cloud/Fusion Technical Consultant :: Ch...   \n",
            "3                   Oracle Cloud Technical Consultant \\n   \n",
            "4                Oracle Application Technical Consultant   \n",
            "...                                                  ...   \n",
            "52823               Software Engineer, QA (Selenium/API)   \n",
            "52824  Hiring For Automation Testing with Selenium, A...   \n",
            "52825        Senior Software Engineer, QA (Selenium/API)   \n",
            "52826                 Selenium - Java, API Test Engineer   \n",
            "52827   Automation Test Engineer - Selenium/ API Testing   \n",
            "\n",
            "                                                     url  \n",
            "0      https://www.naukri.com/job-listings-dynamics-3...  \n",
            "1      https://www.naukri.com/job-listings-oracle-app...  \n",
            "2      https://www.naukri.com/job-listings-oracle-clo...  \n",
            "3      https://www.naukri.com/job-listings-oracle-clo...  \n",
            "4      https://www.naukri.com/job-listings-oracle-app...  \n",
            "...                                                  ...  \n",
            "52823  https://www.naukri.com/job-listings-software-e...  \n",
            "52824  https://www.naukri.com/job-listings-hiring-for...  \n",
            "52825  https://www.naukri.com/job-listings-senior-sof...  \n",
            "52826  https://www.naukri.com/job-listings-selenium-j...  \n",
            "52827  https://www.naukri.com/job-listings-automation...  \n",
            "\n",
            "[52828 rows x 8 columns]\n"
          ]
        }
      ],
      "source": [
        "print(df)"
      ]
    },
    {
      "cell_type": "code",
      "execution_count": 6,
      "metadata": {
        "id": "BbJ_0LAtamT9"
      },
      "outputs": [],
      "source": [
        "df1=df[['skills','title']]"
      ]
    },
    {
      "cell_type": "code",
      "execution_count": 7,
      "metadata": {},
      "outputs": [
        {
          "name": "stdout",
          "output_type": "stream",
          "text": [
            "                                                  skills  \\\n",
            "0      Microsoft Dynamics 365 F&O,Microsoft Dynamics ...   \n",
            "1      OAF,Oracle Apps Technical,EBS,Oracle Applicati...   \n",
            "2      oracle fusion,oracle cloud,IT Skills,Cloud,Ora...   \n",
            "3      ODI,BIP,OIC,OTBI,Dell Boomi,IT Skills,Cloud,Or...   \n",
            "4      Oracle Apps Technical,IT Skills,Cloud,Oracle,J...   \n",
            "...                                                  ...   \n",
            "52823  Agile,debugging,Selenium,verbal communication,...   \n",
            "52824  Rest Assured,automation testing,API Testing,IT...   \n",
            "52825  TDD,Java,Jenkins,analytical,Agile,written,verb...   \n",
            "52826  oral communication,VSTS,Automation Framework,S...   \n",
            "52827  SoapUI,API Testing,Selenium,ReadyAPI,Bash,PyTe...   \n",
            "\n",
            "                                                   title  \n",
            "0                  Dynamics 365 F&O Technical Consultant  \n",
            "1        Oracle Application Technical Consultant ( OAF )  \n",
            "2      Oracle Cloud/Fusion Technical Consultant :: Ch...  \n",
            "3                   Oracle Cloud Technical Consultant \\n  \n",
            "4                Oracle Application Technical Consultant  \n",
            "...                                                  ...  \n",
            "52823               Software Engineer, QA (Selenium/API)  \n",
            "52824  Hiring For Automation Testing with Selenium, A...  \n",
            "52825        Senior Software Engineer, QA (Selenium/API)  \n",
            "52826                 Selenium - Java, API Test Engineer  \n",
            "52827   Automation Test Engineer - Selenium/ API Testing  \n",
            "\n",
            "[52828 rows x 2 columns]\n"
          ]
        }
      ],
      "source": [
        "print(df1)"
      ]
    },
    {
      "cell_type": "code",
      "execution_count": 8,
      "metadata": {
        "id": "gPdk_85JamT9"
      },
      "outputs": [
        {
          "data": {
            "text/plain": [
              "Index(['skills', 'title'], dtype='object')"
            ]
          },
          "execution_count": 8,
          "metadata": {},
          "output_type": "execute_result"
        }
      ],
      "source": [
        "df1.columns"
      ]
    },
    {
      "cell_type": "code",
      "execution_count": 9,
      "metadata": {
        "id": "v6qslDRZeOFq"
      },
      "outputs": [
        {
          "data": {
            "text/plain": [
              "RangeIndex(start=0, stop=52828, step=1)"
            ]
          },
          "execution_count": 9,
          "metadata": {},
          "output_type": "execute_result"
        }
      ],
      "source": [
        "df1.index"
      ]
    },
    {
      "cell_type": "code",
      "execution_count": 10,
      "metadata": {
        "id": "zx2reA1c4c5E"
      },
      "outputs": [
        {
          "data": {
            "text/plain": [
              "(52828,)"
            ]
          },
          "execution_count": 10,
          "metadata": {},
          "output_type": "execute_result"
        }
      ],
      "source": [
        "df1['skills'].shape"
      ]
    },
    {
      "cell_type": "code",
      "execution_count": 11,
      "metadata": {
        "id": "b391KY6OkH82"
      },
      "outputs": [
        {
          "data": {
            "text/html": [
              "<div>\n",
              "<style scoped>\n",
              "    .dataframe tbody tr th:only-of-type {\n",
              "        vertical-align: middle;\n",
              "    }\n",
              "\n",
              "    .dataframe tbody tr th {\n",
              "        vertical-align: top;\n",
              "    }\n",
              "\n",
              "    .dataframe thead th {\n",
              "        text-align: right;\n",
              "    }\n",
              "</style>\n",
              "<table border=\"1\" class=\"dataframe\">\n",
              "  <thead>\n",
              "    <tr style=\"text-align: right;\">\n",
              "      <th></th>\n",
              "      <th>skills</th>\n",
              "      <th>title</th>\n",
              "    </tr>\n",
              "  </thead>\n",
              "  <tbody>\n",
              "    <tr>\n",
              "      <th>0</th>\n",
              "      <td>Microsoft Dynamics 365 F&amp;O,Microsoft Dynamics ...</td>\n",
              "      <td>Dynamics 365 F&amp;O Technical Consultant</td>\n",
              "    </tr>\n",
              "    <tr>\n",
              "      <th>1</th>\n",
              "      <td>OAF,Oracle Apps Technical,EBS,Oracle Applicati...</td>\n",
              "      <td>Oracle Application Technical Consultant ( OAF )</td>\n",
              "    </tr>\n",
              "    <tr>\n",
              "      <th>2</th>\n",
              "      <td>oracle fusion,oracle cloud,IT Skills,Cloud,Ora...</td>\n",
              "      <td>Oracle Cloud/Fusion Technical Consultant :: Ch...</td>\n",
              "    </tr>\n",
              "    <tr>\n",
              "      <th>3</th>\n",
              "      <td>ODI,BIP,OIC,OTBI,Dell Boomi,IT Skills,Cloud,Or...</td>\n",
              "      <td>Oracle Cloud Technical Consultant \\n</td>\n",
              "    </tr>\n",
              "    <tr>\n",
              "      <th>4</th>\n",
              "      <td>Oracle Apps Technical,IT Skills,Cloud,Oracle,J...</td>\n",
              "      <td>Oracle Application Technical Consultant</td>\n",
              "    </tr>\n",
              "    <tr>\n",
              "      <th>...</th>\n",
              "      <td>...</td>\n",
              "      <td>...</td>\n",
              "    </tr>\n",
              "    <tr>\n",
              "      <th>395</th>\n",
              "      <td>Communication Skills,Written And Oral Communic...</td>\n",
              "      <td>Sales Consultant</td>\n",
              "    </tr>\n",
              "    <tr>\n",
              "      <th>396</th>\n",
              "      <td>.net core,asp.net,Asp Net,Oral Communication,W...</td>\n",
              "      <td>Dot net Microservices with Azure</td>\n",
              "    </tr>\n",
              "    <tr>\n",
              "      <th>397</th>\n",
              "      <td>Program Management,Communication Skills,PMP,Pr...</td>\n",
              "      <td>Program Manager</td>\n",
              "    </tr>\n",
              "    <tr>\n",
              "      <th>398</th>\n",
              "      <td>Communication And Interpersonal Skills,Communi...</td>\n",
              "      <td>Trainee Counsellor</td>\n",
              "    </tr>\n",
              "    <tr>\n",
              "      <th>399</th>\n",
              "      <td>excel,oral communication,IT Skills,Project Man...</td>\n",
              "      <td>Operations Analyst, Associate</td>\n",
              "    </tr>\n",
              "  </tbody>\n",
              "</table>\n",
              "<p>400 rows × 2 columns</p>\n",
              "</div>"
            ],
            "text/plain": [
              "                                                skills  \\\n",
              "0    Microsoft Dynamics 365 F&O,Microsoft Dynamics ...   \n",
              "1    OAF,Oracle Apps Technical,EBS,Oracle Applicati...   \n",
              "2    oracle fusion,oracle cloud,IT Skills,Cloud,Ora...   \n",
              "3    ODI,BIP,OIC,OTBI,Dell Boomi,IT Skills,Cloud,Or...   \n",
              "4    Oracle Apps Technical,IT Skills,Cloud,Oracle,J...   \n",
              "..                                                 ...   \n",
              "395  Communication Skills,Written And Oral Communic...   \n",
              "396  .net core,asp.net,Asp Net,Oral Communication,W...   \n",
              "397  Program Management,Communication Skills,PMP,Pr...   \n",
              "398  Communication And Interpersonal Skills,Communi...   \n",
              "399  excel,oral communication,IT Skills,Project Man...   \n",
              "\n",
              "                                                 title  \n",
              "0                Dynamics 365 F&O Technical Consultant  \n",
              "1      Oracle Application Technical Consultant ( OAF )  \n",
              "2    Oracle Cloud/Fusion Technical Consultant :: Ch...  \n",
              "3                 Oracle Cloud Technical Consultant \\n  \n",
              "4              Oracle Application Technical Consultant  \n",
              "..                                                 ...  \n",
              "395                                   Sales Consultant  \n",
              "396                   Dot net Microservices with Azure  \n",
              "397                                    Program Manager  \n",
              "398                                 Trainee Counsellor  \n",
              "399                      Operations Analyst, Associate  \n",
              "\n",
              "[400 rows x 2 columns]"
            ]
          },
          "execution_count": 11,
          "metadata": {},
          "output_type": "execute_result"
        }
      ],
      "source": [
        "df2=df1.head(400)\n",
        "df2"
      ]
    },
    {
      "cell_type": "code",
      "execution_count": 12,
      "metadata": {
        "id": "5cv_6vruqMFJ"
      },
      "outputs": [],
      "source": [
        "df3=df2.copy()"
      ]
    },
    {
      "cell_type": "code",
      "execution_count": 13,
      "metadata": {
        "id": "omUdH04bhOG4"
      },
      "outputs": [],
      "source": [
        "skills=dict()\n",
        "index=0\n",
        "for i in df2['skills']:\n",
        "  length=len(i)\n",
        "  i=i[0:length]\n",
        "  l=i.split(',')\n",
        "  for j in l:\n",
        "    j=j[0:len(j)]\n",
        "    if j not in skills:\n",
        "      skills[j]=index\n",
        "      index=index+1"
      ]
    },
    {
      "cell_type": "code",
      "execution_count": 14,
      "metadata": {
        "id": "zCC9DJnGJMPp"
      },
      "outputs": [],
      "source": [
        "with open('skills','wb') as f:\n",
        "  pickle.dump(skills,f)"
      ]
    },
    {
      "cell_type": "code",
      "execution_count": 31,
      "metadata": {
        "id": "ttY2YQCaJT-1"
      },
      "outputs": [
        {
          "name": "stdout",
          "output_type": "stream",
          "text": [
            "{}\n"
          ]
        }
      ],
      "source": [
        "with open('skills','rb') as f:\n",
        "  skills=pickle.load(f)\n",
        "print(skills)"
      ]
    },
    {
      "cell_type": "code",
      "execution_count": 15,
      "metadata": {
        "id": "JM_gK_WTmYSI"
      },
      "outputs": [
        {
          "name": "stdout",
          "output_type": "stream",
          "text": [
            "[0, 1, 2, 3, 4, 5]\n",
            "[6, 7, 8, 9, 10, 11]\n",
            "[12, 13, 14, 15, 16, 10, 17, 18]\n",
            "[19, 20, 21, 22, 23, 14, 15, 16]\n",
            "[7, 14, 15, 16, 24, 25, 26, 27]\n",
            "[28, 29, 30, 31, 32, 33, 34, 6]\n",
            "[13, 35, 22, 36, 18, 37, 14, 15]\n",
            "[38, 39, 5, 40, 41, 42, 43]\n",
            "[44, 45, 46, 47, 48, 49, 50, 51]\n",
            "[52, 53, 54, 24, 55]\n",
            "[27, 10, 56, 57, 58, 59, 60, 32]\n",
            "[61, 62, 63, 64]\n",
            "[65, 66, 67, 68, 69, 70, 71, 72]\n",
            "[8, 73, 56, 74, 75, 76, 77, 78]\n",
            "[79, 80, 81, 82, 83, 84, 85, 86]\n",
            "[87, 88, 89, 90, 91, 92, 93, 94]\n",
            "[95, 96, 97, 98, 99, 14, 100, 101]\n",
            "[102, 103, 104, 105, 106, 107, 108, 18]\n",
            "[109, 51, 110, 111, 112, 14, 15, 113]\n",
            "[114, 115, 116]\n",
            "[117, 118, 119, 120, 121, 122, 123, 124]\n",
            "[117, 125, 126, 120, 121, 127, 122, 128]\n",
            "[126, 129, 130, 32, 131, 132, 133, 134]\n",
            "[135, 121, 136, 137, 138, 133, 139, 140]\n",
            "[141, 142, 143, 144, 145, 146, 147, 148]\n",
            "[149, 150, 151, 146, 147, 148, 152, 153]\n",
            "[143, 149, 50, 154, 155, 156, 157]\n",
            "[50, 131, 158, 151, 159, 160, 121, 161]\n",
            "[120, 121, 162, 163, 149, 164, 165]\n",
            "[121, 162, 163, 149, 166, 120, 164, 165]\n",
            "[121, 167, 168, 169, 170, 171, 172, 173]\n",
            "[158, 174, 175, 176, 177, 178, 179, 180]\n",
            "[181, 120, 182, 183, 184, 185, 186, 139]\n",
            "[187, 188, 189, 190, 191, 192, 193]\n",
            "[181, 183, 184, 194, 162, 133, 186, 139]\n",
            "[149, 148, 195, 196, 146, 197, 162, 152]\n",
            "[121, 162, 198, 149, 166, 120, 164, 199]\n",
            "[14, 200, 201, 202, 70, 164, 203, 124]\n",
            "[14, 55, 204, 24, 205, 206, 202, 32]\n",
            "[151, 207, 208, 209]\n",
            "[210, 211, 110, 212, 213, 214, 215, 51]\n",
            "[216, 212, 217, 218, 219, 51, 220, 18]\n",
            "[221, 222, 202, 32, 208, 223, 224, 225]\n",
            "[210, 226, 227, 228, 229]\n",
            "[230, 231, 232, 233, 234, 235, 236, 237]\n",
            "[238, 239, 240, 18, 241, 242, 24, 243]\n",
            "[244, 245, 157, 246, 247, 248, 249, 213]\n",
            "[244, 245, 157, 246, 249, 219, 247, 248]\n",
            "[250, 14, 24, 251, 213, 121, 252, 253]\n",
            "[254, 212, 238, 255, 157, 256, 257, 32]\n",
            "[244, 258, 219, 259, 260, 231, 261, 262]\n",
            "[263, 264, 265, 266, 213, 212, 243, 218]\n",
            "[267, 217, 268, 257, 256, 269, 270, 220]\n",
            "[213, 208, 271, 245, 272, 273, 274, 275]\n",
            "[251, 276, 213, 277, 231, 278, 279, 235]\n",
            "[213, 280, 281, 282, 212, 223, 283, 121]\n",
            "[211, 228, 284, 285, 286, 230, 287, 224]\n",
            "[251, 212, 276, 288, 51, 245, 65, 289]\n",
            "[290, 244, 271, 212, 14, 291, 292, 293]\n",
            "[65, 250, 251, 294, 295, 200, 296, 297]\n",
            "[298, 299, 300, 301, 302, 303, 304, 305]\n",
            "[306, 307, 308, 184, 309, 110, 310, 55]\n",
            "[311, 312, 313, 314, 315, 110, 316, 317]\n",
            "[318, 319, 320, 321, 322, 323, 324, 325]\n",
            "[200, 326, 327, 328, 70, 329, 330, 331]\n",
            "[332, 333, 334, 335, 18, 14, 100, 336]\n",
            "[14, 200, 100, 337]\n",
            "[338, 326, 339, 340, 341, 342, 343, 331]\n",
            "[344, 345, 346, 347, 348, 349, 350]\n",
            "[351, 352, 353, 354, 355, 356, 357, 358]\n",
            "[359, 360, 344, 300, 361, 362, 363]\n",
            "[364, 365, 366, 314, 367, 368, 14, 100]\n",
            "[338, 369, 370, 72, 371, 14, 100]\n",
            "[333, 372, 373, 374, 299, 375, 200, 376]\n",
            "[377, 378, 333, 330, 33, 200, 379, 380]\n",
            "[381, 382, 377, 14, 200, 100, 383, 15]\n",
            "[382, 377, 378, 14, 200, 100, 384, 15]\n",
            "[100, 332, 335, 18, 14, 385, 382, 333]\n",
            "[386, 318, 387, 388, 389, 390, 391, 392]\n",
            "[393, 338, 311, 394, 395, 396, 397, 398]\n",
            "[70, 399, 400, 16, 401, 402, 403, 404]\n",
            "[16, 14, 291, 15, 405, 60, 406, 31]\n",
            "[407, 408, 409, 410, 14, 405, 16, 411]\n",
            "[402, 412, 408, 413, 414, 415, 404, 416]\n",
            "[417, 415, 418, 14, 16, 404, 419, 18]\n",
            "[402, 411, 412, 420, 421, 415, 404, 400]\n",
            "[411, 401, 422, 415, 404, 416, 423, 424]\n",
            "[425, 405, 417, 426, 16, 427, 404, 401]\n",
            "[428, 429, 430, 407, 431, 432, 433, 434]\n",
            "[428, 407, 431]\n",
            "[435, 436, 401, 437, 407, 438, 409, 404]\n",
            "[439, 407, 440, 441, 442, 443, 444, 445]\n",
            "[404, 14, 50, 15, 16, 446, 447, 448]\n",
            "[401, 449, 415, 407, 69, 14, 15, 405]\n",
            "[450, 451, 452, 125, 453, 454, 407, 455]\n",
            "[402, 456, 70, 457, 458, 459, 404, 16]\n",
            "[411, 407, 435, 460, 461, 409]\n",
            "[201, 407]\n",
            "[402, 61, 125, 311, 457, 110, 415, 462]\n",
            "[411, 463, 408, 407, 464, 401, 14, 405]\n",
            "[66, 252, 465, 14, 57, 466, 467]\n",
            "[468, 69, 224, 469, 470]\n",
            "[471, 472, 473, 257, 474, 475, 476, 477]\n",
            "[252, 478, 479, 480, 481, 482, 483, 484]\n",
            "[252, 224, 110, 485, 486, 487, 488, 37]\n",
            "[51, 489, 490, 250, 491, 492, 272, 243]\n",
            "[252, 493, 224, 14, 50, 55, 204]\n",
            "[494, 468, 495, 496, 224, 497, 498, 482]\n",
            "[293, 499, 204, 500, 257, 490, 501, 55]\n",
            "[50, 252]\n",
            "[494, 502, 24, 252, 493, 475, 33, 503]\n",
            "[493, 504, 55, 498, 505, 204, 506, 507]\n",
            "[502, 252, 14, 291]\n",
            "[502, 252, 14, 291]\n",
            "[508, 509, 510, 511, 476, 110, 512, 498]\n",
            "[513, 293, 200, 14, 50, 291, 24, 514]\n",
            "[515, 516, 517, 501, 518, 252]\n",
            "[519, 488, 51, 69, 520, 14, 15, 252]\n",
            "[521, 468, 14, 522, 24, 69, 523, 524]\n",
            "[252, 204, 525, 24, 526, 55, 478, 527]\n",
            "[528, 529, 530]\n",
            "[528, 531]\n",
            "[532, 533, 534, 535, 536, 537, 538]\n",
            "[206, 539, 540, 538, 198, 541, 542, 543]\n",
            "[544, 545, 546, 547, 548, 549, 550, 551]\n",
            "[552, 553, 309, 554, 555, 556, 557, 558]\n",
            "[559, 560, 561, 562, 563, 564, 565, 566]\n",
            "[567, 568, 569, 570, 571, 572, 573, 574]\n",
            "[575, 576, 577, 578, 579, 580, 581, 582]\n",
            "[528]\n",
            "[583, 584, 585, 586, 587, 588, 589, 590]\n",
            "[164, 183, 591, 592, 593, 330, 594, 595]\n",
            "[596, 597, 429, 598, 599, 600, 538, 594]\n",
            "[596, 597, 429, 396, 598, 599, 600, 538]\n",
            "[596, 601, 602, 603, 604, 592, 605, 606]\n",
            "[70, 607, 608, 609, 610, 611, 612, 14]\n",
            "[592]\n",
            "[613, 614, 592, 615, 600, 616, 617]\n",
            "[618, 619, 620, 621, 622, 623, 624, 625]\n",
            "[626, 311, 627, 628, 592, 629, 330, 630]\n",
            "[631, 632, 633, 634, 635, 636, 637, 638]\n",
            "[462, 639, 640, 641, 642, 643, 183, 644]\n",
            "[183, 636, 645, 646, 647, 648, 649, 650]\n",
            "[651, 652, 653, 654, 655, 656, 657, 658]\n",
            "[659, 660, 655, 661, 662, 663, 658, 664]\n",
            "[665, 666, 667, 668, 669, 635, 670, 462]\n",
            "[663, 671, 635, 636, 462, 672, 631, 673]\n",
            "[663, 671, 635, 636, 462, 672, 631, 673]\n",
            "[674, 635, 645, 675, 672, 370, 673, 631]\n",
            "[676, 677, 678, 668, 635, 462, 675, 673]\n",
            "[200, 14, 15, 69, 65, 679, 678, 369]\n",
            "[680, 681, 682, 683, 664, 637, 684, 685]\n",
            "[676, 677, 678, 668, 635, 645, 675, 673]\n",
            "[357, 635, 686, 687, 682, 637, 462, 688]\n",
            "[689, 690, 635, 677, 686, 688, 637, 662]\n",
            "[636, 14, 691, 450, 692, 693, 694, 695]\n",
            "[636, 14, 691, 450, 692, 693, 694, 695]\n",
            "[696, 697, 451, 698, 699, 667, 670, 700]\n",
            "[450, 451, 701, 674, 702, 669, 310, 645]\n",
            "[14, 522, 65, 311, 70, 703, 702, 462]\n",
            "[288, 704, 705, 706, 707, 18, 14, 708]\n",
            "[709, 233, 420, 710, 256, 77, 711, 14]\n",
            "[712, 713, 714, 267, 212, 71, 715, 107]\n",
            "[716, 717, 288, 718, 719]\n",
            "[233, 720, 714, 721, 400, 722, 212]\n",
            "[723, 724, 725, 726, 727, 714, 728, 729]\n",
            "[14, 100, 730, 731, 732]\n",
            "[288, 14, 708, 733, 128, 734, 735, 736]\n",
            "[737, 453, 701, 738, 739, 740, 741, 708]\n",
            "[213, 742, 288, 743, 744]\n",
            "[745, 214, 18, 746, 212, 747]\n",
            "[65, 748, 749, 18, 714, 715, 212, 14]\n",
            "[257, 51, 55, 18, 256, 14, 708, 720]\n",
            "[256, 55, 257, 18, 51, 14, 708, 720]\n",
            "[750, 751, 711, 51, 77, 420, 256, 233]\n",
            "[752, 51, 753, 751, 754, 212, 14, 708]\n",
            "[755, 65, 259, 213, 756, 18, 288, 757]\n",
            "[758, 708, 759, 206, 760, 722, 761, 762]\n",
            "[14, 405, 16, 708, 436, 763, 412, 764]\n",
            "[400, 212, 765, 708, 766, 767, 754, 768]\n",
            "[522, 70, 769, 120, 770, 771, 772, 773]\n",
            "[774, 18, 775, 776]\n",
            "[522, 349, 777, 778, 779, 780, 781]\n",
            "[782, 200]\n",
            "[402, 783, 782, 784, 16, 785, 722, 18]\n",
            "[70, 457, 786, 787, 788, 789, 790, 772]\n",
            "[782, 69, 200, 791, 792, 94, 793, 369]\n",
            "[782, 402, 794, 795, 796, 797, 798, 492]\n",
            "[799, 800, 801, 802, 803, 311, 124, 10]\n",
            "[522, 482, 782, 772, 804, 805, 402, 70]\n",
            "[806, 807, 808, 110, 809, 51]\n",
            "[200, 810, 330, 811, 14, 812, 813, 814]\n",
            "[402, 815, 816, 14, 100, 817, 69, 782]\n",
            "[294, 65, 522, 498, 70, 782, 15, 732]\n",
            "[818, 819, 820, 821, 822, 32, 50, 782]\n",
            "[819, 50, 70, 782, 32, 823, 304, 824]\n",
            "[328, 825, 782, 14, 50, 200, 100, 16]\n",
            "[826]\n",
            "[827, 578, 828, 829, 830, 831, 832, 785]\n",
            "[833, 70, 782, 304, 834, 835, 14, 291]\n",
            "[836, 129, 837, 838, 264, 839, 55, 794]\n",
            "[836, 129, 837, 838, 264, 839, 55, 840]\n",
            "[402, 841, 842, 843, 844, 845, 846]\n",
            "[847, 14, 100]\n",
            "[50, 494, 291, 24, 848, 849, 56, 55]\n",
            "[850, 851, 852, 853, 854, 855, 856, 857]\n",
            "[246, 208, 50, 858, 809, 859, 860, 861]\n",
            "[862, 863, 864, 865, 866, 867, 868, 869]\n",
            "[870, 871, 872, 873, 874, 875, 876, 877]\n",
            "[808, 878, 208, 879, 71, 880, 881, 882]\n",
            "[883, 873]\n",
            "[884, 658, 885, 56, 886, 887, 888, 889]\n",
            "[66, 890, 891, 845, 476, 57, 452, 500]\n",
            "[50, 882, 892, 14]\n",
            "[326, 893, 328, 894, 895, 896, 702, 897]\n",
            "[14, 100, 893, 898, 895, 899, 900, 897]\n",
            "[901, 208, 902, 903, 904, 905, 50, 18]\n",
            "[896, 906, 907, 110, 908]\n",
            "[50, 817, 909, 51, 384, 14, 100, 910]\n",
            "[596, 911, 912, 113, 913, 914, 915, 916]\n",
            "[917, 918, 919, 920, 921, 14, 15, 922]\n",
            "[923, 924, 925, 926, 927]\n",
            "[757, 928, 929]\n",
            "[928, 924, 930, 931, 932, 933, 934]\n",
            "[935, 920, 936, 937, 938, 939, 928, 940]\n",
            "[941, 935, 942, 920]\n",
            "[943, 944, 945, 946, 947, 920, 948, 939]\n",
            "[938, 949, 950, 951, 952, 924, 953, 954]\n",
            "[896, 949, 194, 919, 955, 832, 956, 921]\n",
            "[957, 578, 958, 757, 919, 959, 16, 960]\n",
            "[961]\n",
            "[962, 578, 963, 184, 964, 919, 965, 616]\n",
            "[757, 924, 966, 967]\n",
            "[968, 969, 967, 139, 970, 166]\n",
            "[894, 129, 918, 971, 972, 973, 974, 975]\n",
            "[928, 924, 945, 935, 920]\n",
            "[976, 924, 977, 978, 757, 979, 193, 980]\n",
            "[757, 981, 982]\n",
            "[983, 984, 918, 949, 919, 935, 920, 921]\n",
            "[827, 917, 918, 985, 919, 935, 986, 16]\n",
            "[987, 898, 988, 989, 428, 990, 991, 992]\n",
            "[802, 957, 898, 993, 994, 124, 995, 996]\n",
            "[987, 898, 988, 949, 166, 428, 990, 991]\n",
            "[50, 997, 998, 861, 999, 51, 194, 14]\n",
            "[1000, 1001, 1002, 1003, 1004, 450, 451, 1005]\n",
            "[402, 701, 70, 1006, 845, 457, 1007, 1008]\n",
            "[1009, 1010, 1011, 995, 166]\n",
            "[1012, 991, 1009, 1010, 1011, 995, 1013, 166]\n",
            "[1009, 1014, 1010, 1011, 995, 166]\n",
            "[1009, 1010, 1011, 995, 617, 166]\n",
            "[450, 1015, 861, 205, 1016, 1017, 828, 995]\n",
            "[991, 1018, 1019, 139, 1020, 956, 198, 1021]\n",
            "[1009, 1010, 1011, 995]\n",
            "[1022, 1023, 1024, 1025, 1026, 1027]\n",
            "[1022, 1023, 1024, 1025, 1026, 1027]\n",
            "[1022, 1023, 1024, 1025, 1026, 1027]\n",
            "[988, 51, 166, 1028]\n",
            "[1029, 1030, 1031, 1032, 514, 1033, 1034, 18]\n",
            "[1035, 855, 1036]\n",
            "[1037, 1038, 1039, 1040, 1041, 1042, 1043, 1044]\n",
            "[1045, 1046, 1047, 1048, 1049, 933, 1050, 1051]\n",
            "[1052, 1053, 785, 1054, 1055, 1056, 1006, 16]\n",
            "[402, 782, 10, 1057, 511, 1050, 249, 1058]\n",
            "[774, 18, 775, 776]\n",
            "[1059, 1060, 1061, 1062, 1046, 1063, 14, 578]\n",
            "[10, 776]\n",
            "[402, 783, 782, 784, 16, 785, 722, 18]\n",
            "[1064, 1065, 725, 51, 256, 78]\n",
            "[402, 815, 816, 14, 100, 817, 69, 782]\n",
            "[402, 1066, 457, 711, 56, 1067, 1068, 14]\n",
            "[1069, 1070, 18]\n",
            "[1071, 837, 1072, 60, 1073, 10, 11, 1074]\n",
            "[827, 578, 828, 829, 830, 831, 832, 785]\n",
            "[18, 457, 1075, 402, 14, 16, 428, 1076]\n",
            "[578, 51, 1077, 1078, 37, 1079, 1080, 1081]\n",
            "[16, 1050, 236, 785, 1006, 1082, 1054, 792]\n",
            "[1052, 1050, 236, 16, 785, 1006, 1082, 1054]\n",
            "[1083, 14, 16, 1084, 1085, 1086, 1087, 1046]\n",
            "[1088, 817, 1046, 1089, 110, 1090, 1091, 1092]\n",
            "[412, 405, 70, 1093, 51, 457, 1094, 1095]\n",
            "[1096, 1097, 1098, 198, 1099, 1100]\n",
            "[1101, 1102, 1103, 1104, 1105, 1044, 1100]\n",
            "[1106, 1107, 1108, 1109, 1110, 1111, 1112, 1113]\n",
            "[962, 1114, 181, 1018, 1115, 1116, 1117, 122]\n",
            "[602, 1118, 1119, 1120, 1108, 1121, 1122, 1123]\n",
            "[1124, 1125, 1126, 1127, 1108, 1121, 1123, 1128]\n",
            "[1129, 1130, 1119, 1131, 1132, 1121, 1113, 1122]\n",
            "[1101, 1133, 1134, 1121, 1135, 1136, 1137]\n",
            "[1138, 1119, 1139, 1120, 1121, 1140, 1098, 1141]\n",
            "[1142, 1109, 1143, 958, 1144, 1145, 1146, 1147]\n",
            "[1148, 1149, 1108, 1121, 1122, 1123, 1150]\n",
            "[1151]\n",
            "[450, 1042, 1152, 1153]\n",
            "[1154, 1155, 1156]\n",
            "[1157, 1119, 1158, 1159, 1108, 1122, 1160, 1128]\n",
            "[1161, 1162, 198, 1099, 1163, 1100]\n",
            "[1164, 1149, 1165]\n",
            "[1166, 1005, 1167, 1168, 1042, 1169]\n",
            "[1157, 1118, 1121, 1128, 1170, 1171, 1125, 1119]\n",
            "[1172, 1173, 1174, 1175, 1176, 1101, 1177, 1178]\n",
            "[814, 291, 1179, 1180, 1181, 958, 32, 1182]\n",
            "[1183, 1184, 754, 14, 200, 291, 100, 522]\n",
            "[1185, 212, 276, 14, 291, 15, 204, 65]\n",
            "[1186, 807, 1187, 14, 291, 1003, 1188, 451]\n",
            "[1189, 1190, 1191, 1192, 51, 1193, 18, 1194]\n",
            "[802, 120, 828, 24, 200, 203, 65, 479]\n",
            "[1195, 1196, 1197, 1198, 1199, 132, 768, 1200]\n",
            "[126, 1196, 1201, 132, 1202, 1203, 1204, 1205]\n",
            "[1206, 1207, 14, 15, 910, 1208, 1209, 159]\n",
            "[126, 130, 32, 131, 110, 132, 133, 1210]\n",
            "[1211, 1212, 711, 1213, 77, 51, 1214, 1215]\n",
            "[125, 120, 60, 488, 1216, 517, 1217, 132]\n",
            "[338, 1218, 1219, 132, 1220, 317, 243, 1221]\n",
            "[1222, 1223, 194, 1224, 132, 55, 1225, 1226]\n",
            "[1227, 204, 1228, 206, 1229, 754, 24, 132]\n",
            "[125, 773, 1230, 807, 202, 132, 1231, 245]\n",
            "[1232, 455, 200, 51, 56, 1233, 236, 1234]\n",
            "[1235, 1236, 285, 1237, 1238, 1206, 1208, 32]\n",
            "[1239, 828, 1240, 796, 1241, 14, 291, 100]\n",
            "[1242, 110, 488, 245, 1216, 120, 1243, 132]\n",
            "[285, 1244, 1245, 1246, 1247, 1248, 1249, 754]\n",
            "[1088, 336, 1250, 1251, 361, 1252, 1253, 1254]\n",
            "[1255, 90, 1250, 278, 1256, 1249, 212, 243]\n",
            "[1257, 1251, 361, 1252, 1253, 1088, 1254, 1258]\n",
            "[1259, 14, 291, 213, 1260, 1261, 299, 1262]\n",
            "[1263, 849, 258, 65, 1264, 1265, 1266, 220]\n",
            "[1267, 14, 50, 57, 55, 204, 24, 772]\n",
            "[562, 120, 1268, 1269, 1270, 51, 1271, 1272]\n",
            "[1246, 590, 1273, 1274, 1275, 503, 311, 235]\n",
            "[802, 828, 384, 317, 1276, 1213, 1277, 1258]\n",
            "[1278, 1279, 1280, 1281, 1282, 1283, 1284, 1285]\n",
            "[1246, 217, 892, 65, 235, 1286, 205, 258]\n",
            "[1287, 1288, 1289, 1290, 1291, 1292, 646, 1293]\n",
            "[1294, 1295, 1296, 828, 110, 14, 100, 1297]\n",
            "[1298, 1299, 1300, 1301, 228, 70, 205, 257]\n",
            "[1302, 1246, 1286, 1303, 1304, 14, 65, 290]\n",
            "[285, 244, 211, 14, 291, 100, 1246, 32]\n",
            "[1305, 1088, 384, 1258, 14, 50, 100, 1306]\n",
            "[213, 1307, 1308, 1309, 244, 251, 235, 212]\n",
            "[1310, 1311, 1312, 1313, 1314, 1315, 1316, 1317]\n",
            "[1318, 1319, 1320, 139, 1321, 1322]\n",
            "[428, 773, 1323, 1324, 1325, 110, 1326, 1327]\n",
            "[1328, 312, 1329, 1330, 1017, 184, 1331, 1332]\n",
            "[1328, 1333, 312, 1329, 1330, 184, 1331, 1332]\n",
            "[1334, 917, 1073, 1335, 1336, 311, 1337, 1338]\n",
            "[1328, 1330, 1339, 184, 194, 1331, 1332, 1340]\n",
            "[1341, 1009, 1342, 1331, 956, 119, 1319, 139]\n",
            "[1343, 949, 194, 18, 1331, 1344, 1345, 1346]\n",
            "[61, 957, 453, 311, 918, 28, 935, 1337]\n",
            "[1341, 1009, 1342, 1331, 956, 119, 1319, 139]\n",
            "[1347, 1348, 1349]\n",
            "[1347, 1350, 1349, 1351, 1352]\n",
            "[1353, 1354, 1355, 1356, 1357, 1358, 1359, 299]\n",
            "[1360, 1349, 1361, 1362, 1363, 1364, 1365, 243]\n",
            "[1366, 1367, 14, 291, 522, 217, 1368, 1369]\n",
            "[65, 110, 488, 69, 1365, 1349, 1370, 1371]\n",
            "[857, 1372, 1365, 1373, 1363, 488, 1374, 1349]\n",
            "[1375, 1376, 488, 1349, 1365]\n",
            "[1377, 51, 1378, 1379, 1380, 1381, 1382, 1383]\n",
            "[1369, 1384, 1375, 390, 1385, 110, 1386]\n",
            "[1387]\n",
            "[1387, 1388, 1389, 1390, 880]\n",
            "[1391, 1392, 1393, 1394, 1395, 1396, 1397, 70]\n",
            "[1398, 1399, 1400, 1395, 70, 1401, 1006, 684]\n",
            "[1394, 1402, 1403, 374, 1404, 1272, 1405, 1406]\n",
            "[299, 1015, 807, 1407]\n",
            "[1408, 1391, 1409, 1410, 1411, 1412, 1413, 1414]\n",
            "[807, 70, 1415, 1416, 1409, 958, 162, 1411]\n",
            "[1387, 1114, 1115, 1417, 1418, 100]\n",
            "[70, 1419, 807, 1420, 14, 291, 1421, 1417]\n",
            "[117, 1422, 126, 1228, 120, 138, 1423, 1424]\n",
            "[1425, 1426]\n",
            "[1414, 1391, 1427, 1409, 1410, 590, 1411, 1428]\n",
            "[1391, 195, 1429, 1430, 1387, 14, 100]\n",
            "[807, 1431, 1432, 1433, 1434, 1435, 1436, 617]\n",
            "[1437, 1438, 1439, 1440, 1441, 1442, 1443, 1444]\n",
            "[1391, 195, 1387, 1405]\n",
            "[1391, 195, 1445, 1446, 1405]\n",
            "[1445, 195, 1447]\n",
            "[1387, 1417, 1448]\n",
            "[1449, 602, 1450, 1451, 1452, 122, 1453, 935]\n",
            "[1126, 1005, 450, 1454, 1455, 1456, 1457, 1458]\n",
            "[1459, 1460, 1461, 428, 1462, 1463, 1464, 1457]\n",
            "[963, 1465, 1466, 1467, 913, 1330, 1468, 1469]\n",
            "[1126, 1005, 1004, 1067, 711, 1470, 451, 1471]\n",
            "[1472, 1473, 1474, 1475, 1476, 1477, 1478, 1067]\n",
            "[1479, 1067, 711, 1480, 1481, 1482, 1483, 1484]\n",
            "[1485, 1486, 1487, 1488, 1489, 1490, 1457]\n",
            "[1491, 1126, 963, 913, 1486, 1492, 1493, 933]\n",
            "[1491, 1126, 963, 913, 1486, 1492, 1493, 933]\n",
            "[1491, 1126, 963, 913, 1486, 1492, 1493, 933]\n",
            "[1491, 1126, 963, 913, 1486, 1492, 1493, 933]\n",
            "[1491, 1126, 1494, 1486, 1495, 1496]\n",
            "[1497, 1498, 1499, 1500, 1501]\n",
            "[1502, 1491, 1503, 1504, 602, 711, 77, 1505]\n",
            "[1126, 1491, 1506]\n",
            "[1246, 230, 1507, 1457, 1508, 65, 892, 14]\n",
            "[1509, 1126, 1510, 691, 1511, 1512, 1457, 933]\n",
            "[1495, 1126, 1491, 963, 913, 933, 1493, 1513]\n",
            "[1488, 1067, 14, 691, 1514, 450, 692, 1515]\n"
          ]
        }
      ],
      "source": [
        "c=0\n",
        "for i in df2['skills']:\n",
        "  l1=[]\n",
        "  l=i.split(',')\n",
        "  for j in l:\n",
        "    if j in skills.keys():\n",
        "      l1.append(skills[j])\n",
        "  df3['skills'][c]=l1\n",
        "  c=c+1\n",
        "c=0\n",
        "for i in df3['title']:\n",
        "  df3['title'][c]=i.replace(\"&\",\"and\")\n",
        "  c=c+1\n"
      ]
    },
    {
      "cell_type": "code",
      "execution_count": 16,
      "metadata": {
        "id": "eh9Hoyrzppgx"
      },
      "outputs": [
        {
          "data": {
            "text/html": [
              "<div>\n",
              "<style scoped>\n",
              "    .dataframe tbody tr th:only-of-type {\n",
              "        vertical-align: middle;\n",
              "    }\n",
              "\n",
              "    .dataframe tbody tr th {\n",
              "        vertical-align: top;\n",
              "    }\n",
              "\n",
              "    .dataframe thead th {\n",
              "        text-align: right;\n",
              "    }\n",
              "</style>\n",
              "<table border=\"1\" class=\"dataframe\">\n",
              "  <thead>\n",
              "    <tr style=\"text-align: right;\">\n",
              "      <th></th>\n",
              "      <th>skills</th>\n",
              "      <th>title</th>\n",
              "    </tr>\n",
              "  </thead>\n",
              "  <tbody>\n",
              "    <tr>\n",
              "      <th>0</th>\n",
              "      <td>[0, 1, 2, 3, 4, 5]</td>\n",
              "      <td>Dynamics 365 FandO Technical Consultant</td>\n",
              "    </tr>\n",
              "    <tr>\n",
              "      <th>1</th>\n",
              "      <td>[6, 7, 8, 9, 10, 11]</td>\n",
              "      <td>Oracle Application Technical Consultant ( OAF )</td>\n",
              "    </tr>\n",
              "    <tr>\n",
              "      <th>2</th>\n",
              "      <td>[12, 13, 14, 15, 16, 10, 17, 18]</td>\n",
              "      <td>Oracle Cloud/Fusion Technical Consultant :: Ch...</td>\n",
              "    </tr>\n",
              "    <tr>\n",
              "      <th>3</th>\n",
              "      <td>[19, 20, 21, 22, 23, 14, 15, 16]</td>\n",
              "      <td>Oracle Cloud Technical Consultant \\n</td>\n",
              "    </tr>\n",
              "    <tr>\n",
              "      <th>4</th>\n",
              "      <td>[7, 14, 15, 16, 24, 25, 26, 27]</td>\n",
              "      <td>Oracle Application Technical Consultant</td>\n",
              "    </tr>\n",
              "    <tr>\n",
              "      <th>...</th>\n",
              "      <td>...</td>\n",
              "      <td>...</td>\n",
              "    </tr>\n",
              "    <tr>\n",
              "      <th>395</th>\n",
              "      <td>[1126, 1491, 1506]</td>\n",
              "      <td>Sales Consultant</td>\n",
              "    </tr>\n",
              "    <tr>\n",
              "      <th>396</th>\n",
              "      <td>[1246, 230, 1507, 1457, 1508, 65, 892, 14]</td>\n",
              "      <td>Dot net Microservices with Azure</td>\n",
              "    </tr>\n",
              "    <tr>\n",
              "      <th>397</th>\n",
              "      <td>[1509, 1126, 1510, 691, 1511, 1512, 1457, 933]</td>\n",
              "      <td>Program Manager</td>\n",
              "    </tr>\n",
              "    <tr>\n",
              "      <th>398</th>\n",
              "      <td>[1495, 1126, 1491, 963, 913, 933, 1493, 1513]</td>\n",
              "      <td>Trainee Counsellor</td>\n",
              "    </tr>\n",
              "    <tr>\n",
              "      <th>399</th>\n",
              "      <td>[1488, 1067, 14, 691, 1514, 450, 692, 1515]</td>\n",
              "      <td>Operations Analyst, Associate</td>\n",
              "    </tr>\n",
              "  </tbody>\n",
              "</table>\n",
              "<p>400 rows × 2 columns</p>\n",
              "</div>"
            ],
            "text/plain": [
              "                                             skills  \\\n",
              "0                                [0, 1, 2, 3, 4, 5]   \n",
              "1                              [6, 7, 8, 9, 10, 11]   \n",
              "2                  [12, 13, 14, 15, 16, 10, 17, 18]   \n",
              "3                  [19, 20, 21, 22, 23, 14, 15, 16]   \n",
              "4                   [7, 14, 15, 16, 24, 25, 26, 27]   \n",
              "..                                              ...   \n",
              "395                              [1126, 1491, 1506]   \n",
              "396      [1246, 230, 1507, 1457, 1508, 65, 892, 14]   \n",
              "397  [1509, 1126, 1510, 691, 1511, 1512, 1457, 933]   \n",
              "398   [1495, 1126, 1491, 963, 913, 933, 1493, 1513]   \n",
              "399     [1488, 1067, 14, 691, 1514, 450, 692, 1515]   \n",
              "\n",
              "                                                 title  \n",
              "0              Dynamics 365 FandO Technical Consultant  \n",
              "1      Oracle Application Technical Consultant ( OAF )  \n",
              "2    Oracle Cloud/Fusion Technical Consultant :: Ch...  \n",
              "3                 Oracle Cloud Technical Consultant \\n  \n",
              "4              Oracle Application Technical Consultant  \n",
              "..                                                 ...  \n",
              "395                                   Sales Consultant  \n",
              "396                   Dot net Microservices with Azure  \n",
              "397                                    Program Manager  \n",
              "398                                 Trainee Counsellor  \n",
              "399                      Operations Analyst, Associate  \n",
              "\n",
              "[400 rows x 2 columns]"
            ]
          },
          "execution_count": 16,
          "metadata": {},
          "output_type": "execute_result"
        }
      ],
      "source": [
        "df3"
      ]
    },
    {
      "cell_type": "code",
      "execution_count": 17,
      "metadata": {
        "id": "Lv4s9mngGrZt"
      },
      "outputs": [],
      "source": [
        "with open('data','wb') as f:\n",
        "  pickle.dump(df3,f)"
      ]
    },
    {
      "cell_type": "code",
      "execution_count": 2,
      "metadata": {
        "id": "M-6mb7knzdCJ"
      },
      "outputs": [
        {
          "ename": "ModuleNotFoundError",
          "evalue": "No module named 'sklearn'",
          "output_type": "error",
          "traceback": [
            "\u001b[0;31m---------------------------------------------------------------------------\u001b[0m",
            "\u001b[0;31mModuleNotFoundError\u001b[0m                       Traceback (most recent call last)",
            "Cell \u001b[0;32mIn[2], line 1\u001b[0m\n\u001b[0;32m----> 1\u001b[0m \u001b[39mfrom\u001b[39;00m \u001b[39msklearn\u001b[39;00m\u001b[39m.\u001b[39;00m\u001b[39mfeature_extraction\u001b[39;00m\u001b[39m.\u001b[39;00m\u001b[39mtext\u001b[39;00m \u001b[39mimport\u001b[39;00m TfidfVectorizer\n",
            "\u001b[0;31mModuleNotFoundError\u001b[0m: No module named 'sklearn'"
          ]
        }
      ],
      "source": [
        "from sklearn.feature_extraction.text import TfidfVectorizer"
      ]
    },
    {
      "cell_type": "code",
      "execution_count": null,
      "metadata": {
        "id": "FmkL5Pvu1yIo"
      },
      "outputs": [],
      "source": [
        "tfidf = TfidfVectorizer(stop_words='english')"
      ]
    },
    {
      "cell_type": "code",
      "execution_count": null,
      "metadata": {
        "id": "fuiuGt8R12vG"
      },
      "outputs": [],
      "source": [
        "tfidf_matrix = tfidf.fit_transform(df3['title'])"
      ]
    },
    {
      "cell_type": "code",
      "execution_count": null,
      "metadata": {
        "id": "7Qc3EB5p1_4y"
      },
      "outputs": [],
      "source": [
        "from sklearn.metrics.pairwise import linear_kernel"
      ]
    },
    {
      "cell_type": "code",
      "execution_count": null,
      "metadata": {
        "id": "fqLaE2BQ2DJ9"
      },
      "outputs": [],
      "source": [
        "cosine_sim = linear_kernel(tfidf_matrix,tfidf_matrix)"
      ]
    },
    {
      "cell_type": "code",
      "execution_count": null,
      "metadata": {
        "id": "sJ1_s8uZ2a73"
      },
      "outputs": [],
      "source": [
        "indices=pd.Series(df1.index, index=df1['skills']).drop_duplicates()"
      ]
    },
    {
      "cell_type": "code",
      "execution_count": null,
      "metadata": {
        "id": "NYR1khF_2igb"
      },
      "outputs": [],
      "source": [
        "\n",
        "def get_recommendation(sks,jobs,cosine_sim=cosine_sim):\n",
        "    skill = []\n",
        "    for i in sks:\n",
        "      skill.append(skills[i])\n",
        "\n",
        "    jobs=dict()\n",
        "    for i in skill:\n",
        "      idx=indices[i]\n",
        "      sim_scores=list(enumerate(cosine_sim[idx]))\n",
        "      sim_scores=sorted(sim_scores,key=lambda X: X[1], reverse=True)\n",
        "      sim_scores=sim_scores[0:5]\n",
        "      for j in sim_scores:\n",
        "        jobs.update({j[0]: j[1]})\n",
        "    jobs=sorted(jobs.items(), key=lambda x:x[1], reverse=True)\n",
        "    tech_indices=[i[0] for i in jobs]\n",
        "    return jobs[0:10],tech_indices[0:10]\n",
        "\n",
        "\n",
        "jobs={}\n",
        "jobs,tech_indices = get_recommendation(['HTML','CSS','Javascript','Java'],jobs)\n",
        "x = df3['title'].iloc[tech_indices]\n",
        "y=[]\n",
        "for i in jobs:\n",
        "  y.append(i[1])\n",
        "x=set(x)\n",
        "y=set(y)"
      ]
    },
    {
      "cell_type": "code",
      "execution_count": null,
      "metadata": {
        "id": "rAHIzlgWYevC"
      },
      "outputs": [],
      "source": [
        "jobs_scores=pd.DataFrame(list(zip(x, y)),columns =['jobs', 'scores'])\n",
        "jobs_scores"
      ]
    },
    {
      "cell_type": "code",
      "execution_count": null,
      "metadata": {
        "id": "7EiAQFOZsJzI"
      },
      "outputs": [],
      "source": [
        "def percentage_match():\n",
        "    plt.barh(jobs_scores['jobs'], jobs_scores['scores'], color = 'b')\n",
        "    plt.title('Percent Match of Job Type')\n"
      ]
    },
    {
      "cell_type": "code",
      "execution_count": null,
      "metadata": {
        "id": "VKiIehimYirN"
      },
      "outputs": [],
      "source": [
        "with open('model_pickle','wb') as f:\n",
        "  pickle.dump(cosine_sim,f)"
      ]
    },
    {
      "cell_type": "code",
      "execution_count": null,
      "metadata": {
        "id": "nTxSKOvN61dT"
      },
      "outputs": [],
      "source": []
    }
  ],
  "metadata": {
    "colab": {
      "provenance": []
    },
    "kernelspec": {
      "display_name": "env",
      "language": "python",
      "name": "python3"
    },
    "language_info": {
      "codemirror_mode": {
        "name": "ipython",
        "version": 3
      },
      "file_extension": ".py",
      "mimetype": "text/x-python",
      "name": "python",
      "nbconvert_exporter": "python",
      "pygments_lexer": "ipython3",
      "version": "3.10.6"
    },
    "vscode": {
      "interpreter": {
        "hash": "5e0334c45ddf2c48808ad1a1b31008b0c8b1980bbb2f79e182209eb2872f5af6"
      }
    }
  },
  "nbformat": 4,
  "nbformat_minor": 0
}
